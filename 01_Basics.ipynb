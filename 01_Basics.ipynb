{
 "cells": [
  {
   "cell_type": "markdown",
   "id": "f2e3d2be",
   "metadata": {},
   "source": [
    "## Basic Concepts of LangGraph\n",
    "\n",
    "- **Graph**: The complete workflow structure\n",
    "- **State**: Data Shared across the workflow\n",
    "- **Nodes**: Steps that modify the workflow\n",
    "- **Edges**: connections between nodes"
   ]
  },
  {
   "cell_type": "code",
   "execution_count": 13,
   "id": "4ed9224a",
   "metadata": {},
   "outputs": [],
   "source": [
    "from typing import TypedDict\n",
    "from langgraph.graph import START, END, StateGraph\n",
    "\n",
    "class InputState(TypedDict):\n",
    "    input_string: str\n",
    "    numeric_value: int\n",
    "\n",
    "def modify_state(input: InputState):\n",
    "    print(f\"current state: {input}\")\n",
    "    return input\n",
    "\n",
    "graph = StateGraph(InputState)\n",
    "\n",
    "graph.add_node(\"branch_a\", modify_state)\n",
    "graph.add_node(\"branch_b\", modify_state)\n",
    "graph.add_edge(\"branch_a\", \"branch_b\")\n",
    "graph.add_edge(\"branch_b\", END)\n",
    "\n",
    "graph.set_entry_point(\"branch_a\")\n",
    "\n",
    "runnable = graph.compile()"
   ]
  },
  {
   "cell_type": "code",
   "execution_count": 14,
   "id": "46c5f248",
   "metadata": {},
   "outputs": [
    {
     "data": {
      "image/png": "[encoded data removed]",
      "text/plain": [
       "<IPython.core.display.Image object>"
      ]
     },
     "metadata": {},
     "output_type": "display_data"
    }
   ],
   "source": [
    "from IPython.display import Image, display\n",
    "from langchain_core.runnables.graph import MermaidDrawMethod\n",
    "\n",
    "display(\n",
    "    Image(\n",
    "        runnable.get_graph().draw_mermaid_png(\n",
    "            draw_method=MermaidDrawMethod.API,\n",
    "        )\n",
    "    )\n",
    ")"
   ]
  },
  {
   "cell_type": "code",
   "execution_count": 18,
   "id": "54796705",
   "metadata": {},
   "outputs": [
    {
     "name": "stdout",
     "output_type": "stream",
     "text": [
      "current state: {'input_string': 'a'}\n",
      "current state: {'input_string': 'a'}\n"
     ]
    },
    {
     "data": {
      "text/plain": [
       "{'input_string': 'a'}"
      ]
     },
     "execution_count": 18,
     "metadata": {},
     "output_type": "execute_result"
    }
   ],
   "source": [
    "runnable.invoke({\"input_string\": \"a\"})"
   ]
  },
  {
   "cell_type": "code",
   "execution_count": 21,
   "id": "16d894df",
   "metadata": {},
   "outputs": [
    {
     "name": "stdout",
     "output_type": "stream",
     "text": [
      "current state: {'input_string': 'a', 'numeric_value': 1}\n",
      "current state: {'input_string': 'a', 'numeric_value': 1}\n"
     ]
    },
    {
     "data": {
      "text/plain": [
       "{'input_string': 'a', 'numeric_value': 1}"
      ]
     },
     "execution_count": 21,
     "metadata": {},
     "output_type": "execute_result"
    }
   ],
   "source": [
    "runnable.invoke({\"input_string\": \"a\", \"numeric_value\": 1})"
   ]
  },
  {
   "cell_type": "code",
   "execution_count": 22,
   "id": "0b354cc9",
   "metadata": {},
   "outputs": [],
   "source": [
    "from typing import TypedDict\n",
    "from langgraph.graph import START, END, StateGraph\n",
    "\n",
    "class InputState(TypedDict):\n",
    "    input_string: str\n",
    "    numeric_value: int\n",
    "\n",
    "def modify_state(input: InputState):\n",
    "    input[\"input_string\"] += \"a\"\n",
    "    input[\"numeric_value\"] += 1\n",
    "    print(f\"current state: {input}\")\n",
    "    return input\n",
    "\n",
    "\n",
    "graph1 = StateGraph(InputState)\n",
    "\n",
    "graph1.add_node(\"branch_a\", modify_state)\n",
    "graph1.add_node(\"branch_b\", modify_state)\n",
    "graph1.add_edge(\"branch_a\", \"branch_b\")\n",
    "graph1.add_edge(\"branch_b\", END)\n",
    "\n",
    "graph1.set_entry_point(\"branch_a\")\n",
    "\n",
    "runnable1 = graph1.compile()"
   ]
  },
  {
   "cell_type": "code",
   "execution_count": 23,
   "id": "706b3cf7",
   "metadata": {},
   "outputs": [
    {
     "data": {
      "image/png": "[encoded data removed]",
      "text/plain": [
       "<IPython.core.display.Image object>"
      ]
     },
     "metadata": {},
     "output_type": "display_data"
    }
   ],
   "source": [
    "from IPython.display import display, Image\n",
    "from langchain_core.runnables.graph import MermaidDrawMethod\n",
    "\n",
    "\n",
    "display(\n",
    "    Image(\n",
    "        runnable1.get_graph().draw_mermaid_png(\n",
    "            draw_method=MermaidDrawMethod.API,\n",
    "        )\n",
    "    )\n",
    ")"
   ]
  },
  {
   "cell_type": "code",
   "execution_count": 25,
   "id": "b0ff5961",
   "metadata": {},
   "outputs": [
    {
     "name": "stdout",
     "output_type": "stream",
     "text": [
      "current state: {'input_string': 'aa', 'numeric_value': 2}\n",
      "current state: {'input_string': 'aaa', 'numeric_value': 3}\n"
     ]
    },
    {
     "data": {
      "text/plain": [
       "{'input_string': 'aaa', 'numeric_value': 3}"
      ]
     },
     "execution_count": 25,
     "metadata": {},
     "output_type": "execute_result"
    }
   ],
   "source": [
    "runnable1.invoke({\"input_string\": \"a\", \"numeric_value\": 1})"
   ]
  },
  {
   "cell_type": "code",
   "execution_count": 26,
   "id": "bfdba412",
   "metadata": {},
   "outputs": [
    {
     "name": "stdout",
     "output_type": "stream",
     "text": [
      "'numeric_value'\n"
     ]
    }
   ],
   "source": [
    "try:\n",
    "    runnable1.invoke({\"input_string\": \"a\"})\n",
    "except KeyError as e:\n",
    "    print(e)"
   ]
  },
  {
   "cell_type": "code",
   "execution_count": null,
   "id": "43ade92e",
   "metadata": {},
   "outputs": [],
   "source": []
  }
 ],
 "metadata": {
  "kernelspec": {
   "display_name": ".venv",
   "language": "python",
   "name": "python3"
  },
  "language_info": {
   "codemirror_mode": {
    "name": "ipython",
    "version": 3
   },
   "file_extension": ".py",
   "mimetype": "text/x-python",
   "name": "python",
   "nbconvert_exporter": "python",
   "pygments_lexer": "ipython3",
   "version": "3.12.8"
  }
 },
 "nbformat": 4,
 "nbformat_minor": 5
}
